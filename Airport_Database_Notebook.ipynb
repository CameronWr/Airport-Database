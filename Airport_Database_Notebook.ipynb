{
 "cells": [
  {
   "cell_type": "markdown",
   "id": "1ec0f256",
   "metadata": {},
   "source": [
    "Cameron Wright  \n",
    "CSE4020 Sect. 01  \n",
    "9th of July 2021  \n",
    "<center> <h1>Final Project: DB Airways</h1> </center>  \n",
    "\n",
    "***"
   ]
  },
  {
   "cell_type": "markdown",
   "id": "aa0296c1",
   "metadata": {},
   "source": [
    "## Table of Contents\n",
    "═══════════════════════════════════════════════════════════════════════════════════════════════════\n",
    "- [ Overview ](#overview)  \n",
    "` ` \n",
    "- [ Formatting ](#formatting)  \n",
    "` ` \n",
    "- [ Step A ](#a)  \n",
    "    - [ Create database ](#database)\n",
    "    - [ Create schema ](#crt_schema)\n",
    "    - [ Insert schema ](#ins_schema)\n",
    "    - [ Insert CSV data ](#csv)  \n",
    "` `  \n",
    "- [ Step B ](#b)  \n",
    "` ` \n",
    "- [ Step C ](#c)  \n",
    "` ` \n",
    "- [ Step D ](#d)  "
   ]
  },
  {
   "cell_type": "markdown",
   "id": "5c79279e",
   "metadata": {},
   "source": [
    "<a name=\"overview\"></a>\n",
    "## Overview\n",
    "═══════════════════════════════════════════════════════════════════════════════════════════════════\n",
    "This project aims to create a mock database for an Airport owned by Mr.DB himself.  \n",
    "Below are the actions completed to achieve this goal.   \n",
    "***\n",
    "__Those steps, in summary, are:__  \n",
    "  \n",
    "__A.)__ Create database & insert CSV files.  \n",
    "__B.)__ Insert additional data into the database.  \n",
    "__C.)__ Execute a query on the database.  \n",
    "__D.)__ Create & test a procedure on the database.  "
   ]
  },
  {
   "cell_type": "markdown",
   "id": "f54bdfad",
   "metadata": {},
   "source": [
    "` `  \n",
    "<a name=\"formatting\"></a>\n",
    "## Formatting\n",
    "═══════════════════════════════════════════════════════════════════════════════════════════════════\n",
    "\n",
    "For clarity, consistent formatting is used throughout this report.  \n",
    "` `  \n",
    "\n",
    "__Dividers:__\n",
    "` ` \n",
    "- __Primary Sections__  \n",
    "    ═══════════════  \n",
    "` ` \n",
    "\n",
    "- __End of prints__  \n",
    "    ╴╴╴╴╴╴╴╴╴╴╴  \n",
    "` `  \n",
    "\n",
    "__Labels:__  \n",
    "- ## Primary Sections  \n",
    "` ` \n",
    "- <h3> <ins> Subsections </ins> </h3>  \n",
    "<br></br>\n",
    "- *__Cell descriptions__*\n",
    "` `  \n",
    "` `  \n",
    "Lastly, all images are stored locally in a scalable formats e.g., SVG."
   ]
  },
  {
   "cell_type": "markdown",
   "id": "3444b5c4",
   "metadata": {},
   "source": [
    "` `  \n",
    "<a name=\"a\"></a>\n",
    "## A.)\n",
    "═══════════════════════════════════════════════════════════════════════════════════════════════════"
   ]
  },
  {
   "cell_type": "markdown",
   "id": "e017526c",
   "metadata": {},
   "source": [
    "<a name=\"database\"></a>\n",
    "<h3> <ins> Create DB Airways AWS Database </ins> </h3>"
   ]
  },
  {
   "cell_type": "markdown",
   "id": "90062622",
   "metadata": {},
   "source": [
    "` `  \n",
    "__*Connect to DB Airways AWS Instance*__"
   ]
  },
  {
   "cell_type": "code",
   "execution_count": 1,
   "id": "47e4a3b8",
   "metadata": {
    "scrolled": false
   },
   "outputs": [
    {
     "name": "stdout",
     "output_type": "stream",
     "text": [
      "\u001b[32mConnection successful\u001b[0m\n",
      "<mysql.connector.connection.MySQLConnection object at 0x000001478D7D0E50>\n",
      "\n",
      "╴╴╴╴╴╴╴╴╴╴╴╴╴╴╴╴╴╴╴╴╴╴╴╴╴╴╴╴╴╴╴╴╴╴╴╴╴╴╴╴╴╴╴╴╴╴╴╴╴╴╴╴╴╴╴╴╴╴╴╴╴╴╴╴╴╴╴╴╴╴╴╴╴╴╴╴╴╴╴╴╴╴╴╴╴╴╴╴╴╴╴╴╴╴╴╴╴╴╴╴╴╴╴╴╴╴╴╴╴╴╴╴╴╴╴╴╴╴╴╴╴╴╴╴╴╴╴\n"
     ]
    }
   ],
   "source": [
    "import mysql.connector\n",
    "\n",
    "# RDS database credentials \n",
    "connection = mysql.connector.connect (\n",
    "    host = \"db-airways.cbpyvem0uhzn.us-east-1.rds.amazonaws.com\",\n",
    "    user = \"admin\",\n",
    "    password = \"password\",\n",
    "    database = \"cse4020\"\n",
    "    )\n",
    "connection.autocommit = True\n",
    "\n",
    "# Attempting to connect to db-airways\n",
    "cursor = connection.cursor(buffered=True)\n",
    "\n",
    "# Check connection\n",
    "if(connection):\n",
    "    print(\"\\x1b[32m\" + \"Connection successful\" + \"\\x1b[0m\\n\" + str(connection))\n",
    "else:\n",
    "    print(\"\\x1b[31m\" + \"Connection failed\" + \"\\x1b[0m\")\n",
    "print('\\n' + '╴' * 127)"
   ]
  },
  {
   "cell_type": "markdown",
   "id": "eafa0ce3",
   "metadata": {},
   "source": [
    "<a name=\"crt_schema\"></a>\n",
    "<h3> <ins> Create schema from ER diagram </ins> </h3>  "
   ]
  },
  {
   "cell_type": "markdown",
   "id": "26ecd042",
   "metadata": {},
   "source": [
    "__*Corresponding mySQL*__\n",
    "```mysql\n",
    "CREATE TABLE `person` (\n",
    "  `name` varchar(20) PRIMARY KEY,\n",
    "  `address` varchar(50),\n",
    "  `phone` varchar(12)\n",
    ");\n",
    "\n",
    "CREATE TABLE `passenger` (\n",
    "  `name` varchar(20),\n",
    "  `ticket_number` varchar(6) PRIMARY KEY\n",
    ");\n",
    "\n",
    "CREATE TABLE `employee` (\n",
    "  `name` varchar(20),\n",
    "  `employee_number` int PRIMARY KEY,\n",
    "  `salary` int\n",
    ");\n",
    "\n",
    "CREATE TABLE `pilot` (\n",
    "  `flight_hours` int,\n",
    "  `employee_number` int PRIMARY KEY\n",
    ");\n",
    "\n",
    "CREATE TABLE `booked_on` (\n",
    "  `ticket_number` varchar(6) PRIMARY KEY,\n",
    "  `flight_number` varchar(3)\n",
    ");\n",
    "\n",
    "CREATE TABLE `depature` (\n",
    "  `date` date,\n",
    "  `flight_number` varchar(3),\n",
    "  PRIMARY KEY (`date`, `flight_number`)\n",
    ");\n",
    "\n",
    "CREATE TABLE `flight` (\n",
    "  `flight_number` varchar(3) PRIMARY KEY,\n",
    "  `origin` char(3),\n",
    "  `destination` char(3),\n",
    "  `depature_time` time,\n",
    "  `arrival_time` time,\n",
    "  `status` varchar(20)\n",
    ");\n",
    "\n",
    "CREATE TABLE `plane` (\n",
    "  `maker` varchar(20),\n",
    "  `model_number` char(4) PRIMARY KEY\n",
    ");\n",
    "\n",
    "CREATE TABLE `aircraft` (\n",
    "  `serial_number` char(2),\n",
    "  `model_number` char(4),\n",
    "  PRIMARY KEY (`serial_number`, `model_number`)\n",
    ");\n",
    "\n",
    "CREATE TABLE `can_fly` (\n",
    "  `employee_number` int,\n",
    "  `model_number` char(4),\n",
    "  PRIMARY KEY (`employee_number`, `model_number`)\n",
    ");\n",
    "\n",
    "ALTER TABLE `passenger` ADD FOREIGN KEY (`name`) REFERENCES `person` (`name`);\n",
    "\n",
    "ALTER TABLE `employee` ADD FOREIGN KEY (`name`) REFERENCES `person` (`name`);\n",
    "\n",
    "ALTER TABLE `passenger` ADD FOREIGN KEY (`ticket_number`) REFERENCES `booked_on` (`ticket_number`);\n",
    "\n",
    "ALTER TABLE `pilot` ADD FOREIGN KEY (`employee_number`) REFERENCES `employee` (`employee_number`);\n",
    "\n",
    "ALTER TABLE `aircraft` ADD FOREIGN KEY (`model_number`) REFERENCES `plane` (`model_number`);\n",
    "\n",
    "ALTER TABLE `pilot` ADD FOREIGN KEY (`employee_number`) REFERENCES `can_fly` (`employee_number`);\n",
    "\n",
    "ALTER TABLE `depature` ADD FOREIGN KEY (`flight_number`) REFERENCES `flight` (`flight_number`);\n",
    "\n",
    "ALTER TABLE `booked_on` ADD FOREIGN KEY (`flight_number`) REFERENCES `depature` (`flight_number`);\n",
    "\n",
    "ALTER TABLE `can_fly` ADD FOREIGN KEY (`model_number`) REFERENCES `plane` (`model_number`);\n",
    "```"
   ]
  },
  {
   "cell_type": "markdown",
   "id": "306c12d6",
   "metadata": {},
   "source": [
    "` `  \n",
    "<a name=\"ins_schema\"></a>\n",
    "<h3> <ins> Implement schema from \"DB_airport.sql\" </ins> </h3>"
   ]
  },
  {
   "cell_type": "code",
   "execution_count": 2,
   "id": "54136345",
   "metadata": {},
   "outputs": [],
   "source": [
    "# Drop all previous tables \n",
    "cursor.execute(\"DROP TABLE `aircraft`, `assigned_to`, `booked_on`, `can_fly`, `departure`, `employee`, `flight`, `passenger`, `person`, `pilot`, `plane`;\")"
   ]
  },
  {
   "cell_type": "code",
   "execution_count": 3,
   "id": "cc59e4a3",
   "metadata": {
    "scrolled": false
   },
   "outputs": [
    {
     "name": "stdout",
     "output_type": "stream",
     "text": [
      "\u001b[1mStatements executed:\u001b[0m\n",
      "\n",
      "CREATE TABLE `person` (\n",
      "  `name` varchar(20) PRIMARY KEY,\n",
      "  `address` varchar(50),\n",
      "  `phone` varchar(12)\n",
      ")\n",
      "CREATE TABLE `passenger` (\n",
      "  `name` varchar(20),\n",
      "  `ticket_number` varchar(6) PRIMARY KEY\n",
      ")\n",
      "CREATE TABLE `employee` (\n",
      "  `name` varchar(20),\n",
      "  `salary` int,\n",
      "  `employee_number` int PRIMARY KEY\n",
      ")\n",
      "CREATE TABLE `pilot` (\n",
      "  `employee_number` int PRIMARY KEY,\n",
      "  `flight_hours` int\n",
      ")\n",
      "CREATE TABLE `departure` (\n",
      "  `date` date,\n",
      "  `flight_number` varchar(3),\n",
      "  PRIMARY KEY (`date`, `flight_number`)\n",
      ")\n",
      "CREATE TABLE `flight` (\n",
      "  `flight_number` varchar(3) PRIMARY KEY,\n",
      "  `origin` char(3),\n",
      "  `destination` char(3),\n",
      "  `depature_time` time,\n",
      "  `arrival_time` time,\n",
      "  `status` varchar(20)\n",
      ")\n",
      "CREATE TABLE `plane` (\n",
      "  `maker` varchar(20),\n",
      "  `model_number` char(4) PRIMARY KEY\n",
      ")\n",
      "CREATE TABLE `aircraft` (\n",
      "  `serial_number` char(2),\n",
      "  `model_number` char(4),\n",
      "  PRIMARY KEY (`serial_number`, `model_number`)\n",
      ")\n",
      "CREATE TABLE `can_fly` (\n",
      "  `employee_number` int,\n",
      "  `model_number` char(4),\n",
      "  PRIMARY KEY (`employee_number`, `model_number`)\n",
      ")\n",
      "CREATE TABLE `booked_on` (\n",
      "  `ticket_number` varchar(6) PRIMARY KEY,\n",
      "  `flight_number` varchar(3)\n",
      ")\n",
      "CREATE TABLE `assigned_to` (\n",
      "  `flight_number` varchar(3),\n",
      "  `employee_number` int,\n",
      "  PRIMARY KEY (`flight_number`, `employee_number`)\n",
      ")\n",
      "ALTER TABLE `passenger` ADD FOREIGN KEY (`name`) REFERENCES `person` (`name`)\n",
      "ALTER TABLE `employee` ADD FOREIGN KEY (`name`) REFERENCES `person` (`name`)\n",
      "ALTER TABLE `passenger` ADD FOREIGN KEY (`ticket_number`) REFERENCES `booked_on` (`ticket_number`)\n",
      "ALTER TABLE `pilot` ADD FOREIGN KEY (`employee_number`) REFERENCES `employee` (`employee_number`)\n",
      "ALTER TABLE `aircraft` ADD FOREIGN KEY (`model_number`) REFERENCES `plane` (`model_number`)\n",
      "ALTER TABLE `pilot` ADD FOREIGN KEY (`employee_number`) REFERENCES `can_fly` (`employee_number`)\n",
      "ALTER TABLE `departure` ADD FOREIGN KEY (`flight_number`) REFERENCES `flight` (`flight_number`)\n",
      "ALTER TABLE `booked_on` ADD FOREIGN KEY (`flight_number`) REFERENCES `departure` (`flight_number`)\n",
      "ALTER TABLE `can_fly` ADD FOREIGN KEY (`model_number`) REFERENCES `plane` (`model_number`)\n",
      "ALTER TABLE `assigned_to` ADD FOREIGN KEY (`employee_number`) REFERENCES `employee` (`employee_number`)\n",
      "ALTER TABLE `assigned_to` ADD FOREIGN KEY (`flight_number`) REFERENCES `departure` (`flight_number`)\n",
      "\n",
      "╴╴╴╴╴╴╴╴╴╴╴╴╴╴╴╴╴╴╴╴╴╴╴╴╴╴╴╴╴╴╴╴╴╴╴╴╴╴╴╴╴╴╴╴╴╴╴╴╴╴╴╴╴╴╴╴╴╴╴╴╴╴╴╴╴╴╴╴╴╴╴╴╴╴╴╴╴╴╴╴╴╴╴╴╴╴╴╴╴╴╴╴╴╴╴╴╴╴╴╴╴╴╴╴╴╴╴╴╴╴╴╴╴╴╴╴╴╴╴╴╴╴╴╴╴╴╴\n"
     ]
    }
   ],
   "source": [
    "# Read in file containing mySQL\n",
    "file = open (\"DB_airport.sql\")\n",
    "sql = file.read()\n",
    "\n",
    "# Execute contained statements on database\n",
    "print(\"\\x1b[1mStatements executed:\\x1b[0m\\n\")\n",
    "for result in cursor.execute(sql, multi = True):\n",
    "    if result.statement:\n",
    "        print(result.statement)\n",
    "    else:\n",
    "        print(\"Rows affected: {}\".format(result.rowcount))\n",
    "print('\\n' + '╴' * 127)"
   ]
  },
  {
   "cell_type": "markdown",
   "id": "6840e766",
   "metadata": {},
   "source": [
    "` `  \n",
    "__*Display all tables in the database*__"
   ]
  },
  {
   "cell_type": "code",
   "execution_count": 4,
   "id": "00673363",
   "metadata": {
    "scrolled": false
   },
   "outputs": [
    {
     "name": "stdout",
     "output_type": "stream",
     "text": [
      "\u001b[1mTables in DB:\u001b[0m\n",
      "aircraft\n",
      "assigned_to\n",
      "booked_on\n",
      "can_fly\n",
      "departure\n",
      "employee\n",
      "flight\n",
      "passenger\n",
      "person\n",
      "pilot\n",
      "plane\n",
      "\n",
      "╴╴╴╴╴╴╴╴╴╴╴╴╴╴╴╴╴╴╴╴╴╴╴╴╴╴╴╴╴╴╴╴╴╴╴╴╴╴╴╴╴╴╴╴╴╴╴╴╴╴╴╴╴╴╴╴╴╴╴╴╴╴╴╴╴╴╴╴╴╴╴╴╴╴╴╴╴╴╴╴╴╴╴╴╴╴╴╴╴╴╴╴╴╴╴╴╴╴╴╴╴╴╴╴╴╴╴╴╴╴╴╴╴╴╴╴╴╴╴╴╴╴╴╴╴╴╴\n"
     ]
    }
   ],
   "source": [
    "# Query for all tables in DB\n",
    "cursor.execute(\"SHOW TABLES\")\n",
    "tables = cursor.fetchall()\n",
    "\n",
    "table_names = []\n",
    "print(\"\\x1b[1mTables in DB:\\x1b[0m\")\n",
    "for table in tables:\n",
    "    # Create list of table names\n",
    "    table_names.append(str(table).replace(\",\", \"\").replace(\"'\", \"\").strip(\"()\"))\n",
    "\n",
    "# Display all table names\n",
    "print('\\n'.join(table_names) + '\\n\\n' + '╴' * 127)"
   ]
  },
  {
   "cell_type": "markdown",
   "id": "0713aa17",
   "metadata": {},
   "source": [
    "` `  \n",
    "<a name=\"csv\"></a>\n",
    "<h3> <ins> Inserting CSV data </ins> </h3>"
   ]
  },
  {
   "cell_type": "markdown",
   "id": "11b5d0dc",
   "metadata": {},
   "source": [
    "` `  \n",
    "__*Function to get attributes from CSV file*__"
   ]
  },
  {
   "cell_type": "code",
   "execution_count": 5,
   "id": "8ad45147",
   "metadata": {},
   "outputs": [],
   "source": [
    "def read_csv(file_name):\n",
    "    records = []\n",
    "    with open(file_name) as csv_file:\n",
    "    \n",
    "        # Cleaning attributes\n",
    "        for line in csv_file:\n",
    "            record = []\n",
    "            line_token = line.split(\",\")\n",
    "            for attribute in line_token:\n",
    "                attribute = attribute.replace('\"', \"\").strip()\n",
    "                record.append(attribute)\n",
    "            records.append(record)\n",
    "    return records[1:]"
   ]
  },
  {
   "cell_type": "markdown",
   "id": "62cdb27c",
   "metadata": {},
   "source": [
    "` `  \n",
    "__*Read in & display contents of CSV files*__"
   ]
  },
  {
   "cell_type": "code",
   "execution_count": 6,
   "id": "92cc555d",
   "metadata": {
    "scrolled": false
   },
   "outputs": [
    {
     "name": "stdout",
     "output_type": "stream",
     "text": [
      "\u001b[1m\u001b[4maircraft\u001b[0m\u001b[0m\n",
      "11 B727\n",
      "13 B727\n",
      "10 B747\n",
      "13 B747\n",
      "22 B757\n",
      "93 B757\n",
      "21 DC9\n",
      "22 DC9\n",
      "23 DC9\n",
      "24 DC9\n",
      "21 DC10\n",
      "70 A310\n",
      "80 A320\n",
      "\n",
      "\u001b[1m\u001b[4mcan_fly\u001b[0m\u001b[0m\n",
      "1001 B727\n",
      "1001 B747\n",
      "1001 DC10\n",
      "1002 DC9\n",
      "1002 A340\n",
      "1002 B757\n",
      "1002 A320\n",
      "1003 A310\n",
      "1003 DC9\n",
      "\n",
      "\u001b[1m\u001b[4mdeparture\u001b[0m\u001b[0m\n",
      "June 30 2021 100\n",
      "June 30 2021 112\n",
      "June 30 2021 206\n",
      "June 30 2021 334\n",
      "June 30 2021 335\n",
      "June 30 2021 337\n",
      "June 30 2021 449\n",
      "Jul 8 2021 100\n",
      "Jul 8 2021 112\n",
      "Jul 8 2021 206\n",
      "Jul 8 2021 334\n",
      "Jul 8 2021 395\n",
      "Jul 8 2021 991\n",
      "\n",
      "\u001b[1m\u001b[4memployee\u001b[0m\u001b[0m\n",
      "Jones 50000.00 1001\n",
      "Peters 45000.00 1002\n",
      "Rowe 35000.00 1003\n",
      "Phillips 25000.00 1004\n",
      "Gates 5000000.00 1005\n",
      "Clark 150000.00 1006\n",
      "Warnock 500000.00 1007\n",
      "\n",
      "\u001b[1m\u001b[4mflight\u001b[0m\u001b[0m\n",
      "100 SLC BOS 08:00 17:50 on-time\n",
      "206 DFW STL 09:00 11:40 on-time\n",
      "334 ORD MIA 12:00 14:14 on-time\n",
      "335 MIA ORD 15:00 17:14 on-time\n",
      "336 ORD MIA 18:00 20:14 on-time\n",
      "337 MIA ORD 20:30 23:53 on-time\n",
      "121 STL SLC 07:00 09:13 on-time\n",
      "122 STL YYV 08:30 10:19 on-time\n",
      "330 JFK YYV 16:00 18:53 on-time\n",
      "991 BOS ORD 17:00 18:22 on-time\n",
      "394 DFW MIA 19:00 21:30 on-time\n",
      "395 MIA DFW 21:00 23:43 on-time\n",
      "449 CDG DEN 10:00 19:29 on-time\n",
      "930 YYV DCA 13:00 16:10 on-time\n",
      "931 DCA YYV 17:00 18:10 on-time\n",
      "932 DCA YYV 18:00 19:10 on-time\n",
      "112 DCA DEN 14:00 18:07 on-time\n",
      "\n",
      "\u001b[1m\u001b[4mperson\u001b[0m\u001b[0m\n",
      "Smith 123 Elm St. 801-556-2239\n",
      "Jones 234 Oak St. 801-552-2943\n",
      "Peters 345 Pine St. 801-393-2230\n",
      "Green 435 Alder St. 801-933-2320\n",
      "Rowe 348 Elder St. 801-343-2320\n",
      "Phillips 395 Pine St. 801-323-2320\n",
      "Gates 285 Kapok St. 801-493-2203\n",
      "Clark 223 Easy St. 801-193-2320\n",
      "Warnock 775 Main St. 801-303-2222\n",
      "Hooper 456 Maple St. 313-912-2101\n",
      "Edwards 567 Spruce St. 801-228-6729\n",
      "Majeris 678 Willow St. null\n",
      "MacBride 789 Fir St. null\n",
      "\n",
      "\u001b[1m\u001b[4mpilot\u001b[0m\u001b[0m\n",
      "1001 6000\n",
      "1002 24000\n",
      "1003 15000\n",
      "\n",
      "\u001b[1m\u001b[4mplane\u001b[0m\u001b[0m\n",
      "Boeing B727\n",
      "Boeing B747\n",
      "Boeing B757\n",
      "MD DC9\n",
      "MD DC10\n",
      "Airbus A310\n",
      "Airbus A320\n",
      "Airbus A330\n",
      "Airbus A340\n",
      "\n",
      "╴╴╴╴╴╴╴╴╴╴╴╴╴╴╴╴╴╴╴╴╴╴╴╴╴╴╴╴╴╴╴╴╴╴╴╴╴╴╴╴╴╴╴╴╴╴╴╴╴╴╴╴╴╴╴╴╴╴╴╴╴╴╴╴╴╴╴╴╴╴╴╴╴╴╴╴╴╴╴╴╴╴╴╴╴╴╴╴╴╴╴╴╴╴╴╴╴╴╴╴╴╴╴╴╴╴╴╴╴╴╴╴╴╴╴╴╴╴╴╴╴╴╴╴╴╴╴\n"
     ]
    }
   ],
   "source": [
    "file_type = \"{}.csv\"\n",
    "\n",
    "# Remove tables without csv's\n",
    "no_csv = [\"booked_on\", \"passenger\", \"assigned_to\"]\n",
    "for table in no_csv:\n",
    "    if table in table_names: table_names.remove(table)\n",
    "    \n",
    "for table in table_names:\n",
    "    csv_file = file_type.format(table)\n",
    "    records = read_csv(csv_file)\n",
    "    \n",
    "    # Display each table & its attributes\n",
    "    print(\"\\x1b[1m\\033[4m\" + table + \"\\033[0m\\x1b[0m\")\n",
    "    for record in records:\n",
    "        print(*record)\n",
    "    print()\n",
    "print('╴' * 127)"
   ]
  },
  {
   "cell_type": "markdown",
   "id": "b61fe7a8",
   "metadata": {},
   "source": [
    "` `  \n",
    "__*Execute querys to insert CSV data*__"
   ]
  },
  {
   "cell_type": "code",
   "execution_count": 7,
   "id": "63140a7d",
   "metadata": {},
   "outputs": [
    {
     "name": "stdout",
     "output_type": "stream",
     "text": [
      "\u001b[1m\u001b[4mQueries\u001b[0m\u001b[0m\n",
      "INSERT INTO plane VALUES('Boeing', 'B727');\n",
      "INSERT INTO plane VALUES('Boeing', 'B747');\n",
      "INSERT INTO plane VALUES('Boeing', 'B757');\n",
      "INSERT INTO plane VALUES('MD', 'DC9');\n",
      "INSERT INTO plane VALUES('MD', 'DC10');\n",
      "INSERT INTO plane VALUES('Airbus', 'A310');\n",
      "INSERT INTO plane VALUES('Airbus', 'A320');\n",
      "INSERT INTO plane VALUES('Airbus', 'A330');\n",
      "INSERT INTO plane VALUES('Airbus', 'A340');\n",
      "\n",
      "\u001b[1mRows affected: \u001b[0m9\n",
      "\n",
      "╴╴╴╴╴╴╴╴╴╴╴╴╴╴╴╴╴╴╴╴╴╴╴╴╴╴╴╴╴╴╴╴╴╴╴╴╴╴╴╴╴╴╴╴╴╴╴╴╴╴╴╴╴╴╴╴╴╴╴╴╴╴╴╴╴╴╴╴╴╴╴╴╴╴╴╴╴╴╴╴╴╴╴╴╴╴╴╴╴╴╴╴╴╴╴╴╴╴╴╴╴╴╴╴╴╴╴╴╴╴╴╴╴╴╴╴╴╴╴╴╴╴╴╴╴╴╴\n"
     ]
    }
   ],
   "source": [
    "# plane\n",
    "rows_affected = 0\n",
    "csv_file = file_type.format(table)\n",
    "\n",
    "table = table_names[7]\n",
    "csv_file = file_type.format(table)\n",
    "records = read_csv(csv_file)\n",
    "\n",
    "print(\"\\x1b[1m\\033[4mQueries\\033[0m\\x1b[0m\")\n",
    "for record in records:\n",
    "    print(\"INSERT INTO \" + table + \" VALUES('\" + str(record[0]) + \"', '\" + str(record[1]) + \"');\")\n",
    "    cursor.execute(\"INSERT INTO \" + table + \" VALUES('\" + str(record[0]) + \"', '\" + str(record[1]) + \"');\")\n",
    "    rows_affected += cursor.rowcount\n",
    "print(\"\\n\\x1b[1m\" + \"Rows affected: \" + \"\\x1b[0m\" + str(rows_affected) + \"\\n\\n\" + '╴' * 127)"
   ]
  },
  {
   "cell_type": "code",
   "execution_count": 8,
   "id": "3845cdd5",
   "metadata": {},
   "outputs": [
    {
     "name": "stdout",
     "output_type": "stream",
     "text": [
      "\u001b[1m\u001b[4mQueries\u001b[0m\u001b[0m\n",
      "INSERT INTO aircraft VALUES('11', 'B727');\n",
      "INSERT INTO aircraft VALUES('13', 'B727');\n",
      "INSERT INTO aircraft VALUES('10', 'B747');\n",
      "INSERT INTO aircraft VALUES('13', 'B747');\n",
      "INSERT INTO aircraft VALUES('22', 'B757');\n",
      "INSERT INTO aircraft VALUES('93', 'B757');\n",
      "INSERT INTO aircraft VALUES('21', 'DC9');\n",
      "INSERT INTO aircraft VALUES('22', 'DC9');\n",
      "INSERT INTO aircraft VALUES('23', 'DC9');\n",
      "INSERT INTO aircraft VALUES('24', 'DC9');\n",
      "INSERT INTO aircraft VALUES('21', 'DC10');\n",
      "INSERT INTO aircraft VALUES('70', 'A310');\n",
      "INSERT INTO aircraft VALUES('80', 'A320');\n",
      "\n",
      "\u001b[1mRows affected: \u001b[0m13\n",
      "\n",
      "╴╴╴╴╴╴╴╴╴╴╴╴╴╴╴╴╴╴╴╴╴╴╴╴╴╴╴╴╴╴╴╴╴╴╴╴╴╴╴╴╴╴╴╴╴╴╴╴╴╴╴╴╴╴╴╴╴╴╴╴╴╴╴╴╴╴╴╴╴╴╴╴╴╴╴╴╴╴╴╴╴╴╴╴╴╴╴╴╴╴╴╴╴╴╴╴╴╴╴╴╴╴╴╴╴╴╴╴╴╴╴╴╴╴╴╴╴╴╴╴╴╴╴╴╴╴╴\n"
     ]
    }
   ],
   "source": [
    "# aircraft\n",
    "rows_affected = 0\n",
    "csv_file = file_type.format(table)\n",
    "\n",
    "table = table_names[0]\n",
    "csv_file = file_type.format(table)\n",
    "records = read_csv(csv_file)\n",
    "\n",
    "print(\"\\x1b[1m\\033[4mQueries\\033[0m\\x1b[0m\")\n",
    "for record in records:\n",
    "    print(\"INSERT INTO \" + table + \" VALUES('\" + str(record[0]) + \"', '\" + str(record[1]) + \"');\")\n",
    "    cursor.execute(\"INSERT INTO \" + table + \" VALUES('\" + str(record[0]) + \"', '\" + str(record[1]) + \"');\")\n",
    "    rows_affected += cursor.rowcount\n",
    "print(\"\\n\\x1b[1m\" + \"Rows affected: \" + \"\\x1b[0m\" + str(rows_affected) + \"\\n\\n\" + '╴' * 127)"
   ]
  },
  {
   "cell_type": "code",
   "execution_count": 9,
   "id": "d0430924",
   "metadata": {
    "scrolled": false
   },
   "outputs": [
    {
     "name": "stdout",
     "output_type": "stream",
     "text": [
      "\u001b[1m\u001b[4mQueries\u001b[0m\u001b[0m\n",
      "INSERT INTO person VALUES('Smith', '123 Elm St.', '801-556-2239');\n",
      "INSERT INTO person VALUES('Jones', '234 Oak St.', '801-552-2943');\n",
      "INSERT INTO person VALUES('Peters', '345 Pine St.', '801-393-2230');\n",
      "INSERT INTO person VALUES('Green', '435 Alder St.', '801-933-2320');\n",
      "INSERT INTO person VALUES('Rowe', '348 Elder St.', '801-343-2320');\n",
      "INSERT INTO person VALUES('Phillips', '395 Pine St.', '801-323-2320');\n",
      "INSERT INTO person VALUES('Gates', '285 Kapok St.', '801-493-2203');\n",
      "INSERT INTO person VALUES('Clark', '223 Easy St.', '801-193-2320');\n",
      "INSERT INTO person VALUES('Warnock', '775 Main St.', '801-303-2222');\n",
      "INSERT INTO person VALUES('Hooper', '456 Maple St.', '313-912-2101');\n",
      "INSERT INTO person VALUES('Edwards', '567 Spruce St.', '801-228-6729');\n",
      "INSERT INTO person VALUES('Majeris', '678 Willow St.', 'null');\n",
      "INSERT INTO person VALUES('MacBride', '789 Fir St.', 'null');\n",
      "\n",
      "\u001b[1mRows affected: \u001b[0m13\n",
      "\n",
      "╴╴╴╴╴╴╴╴╴╴╴╴╴╴╴╴╴╴╴╴╴╴╴╴╴╴╴╴╴╴╴╴╴╴╴╴╴╴╴╴╴╴╴╴╴╴╴╴╴╴╴╴╴╴╴╴╴╴╴╴╴╴╴╴╴╴╴╴╴╴╴╴╴╴╴╴╴╴╴╴╴╴╴╴╴╴╴╴╴╴╴╴╴╴╴╴╴╴╴╴╴╴╴╴╴╴╴╴╴╴╴╴╴╴╴╴╴╴╴╴╴╴╴╴╴╴╴\n"
     ]
    }
   ],
   "source": [
    "# person\n",
    "rows_affected = 0\n",
    "csv_file = file_type.format(table)\n",
    "\n",
    "table = table_names[5]\n",
    "csv_file = file_type.format(table)\n",
    "records = read_csv(csv_file)\n",
    "\n",
    "print(\"\\x1b[1m\\033[4mQueries\\033[0m\\x1b[0m\")\n",
    "for record in records:\n",
    "    print(\"INSERT INTO \" + table + \" VALUES('\" + str(record[0]) + \"', '\" + str(record[1]) + \"', '\" + str(record[2]) + \"');\")\n",
    "    cursor.execute(\"INSERT INTO \" + table + \" VALUES('\" + str(record[0]) + \"', '\" + str(record[1]) + \"', '\" + str(record[2]) + \"');\")\n",
    "    rows_affected += cursor.rowcount\n",
    "print(\"\\n\\x1b[1m\" + \"Rows affected: \" + \"\\x1b[0m\" + str(rows_affected) + \"\\n\\n\" + '╴' * 127)"
   ]
  },
  {
   "cell_type": "code",
   "execution_count": 10,
   "id": "bac3abdd",
   "metadata": {
    "scrolled": true
   },
   "outputs": [
    {
     "name": "stdout",
     "output_type": "stream",
     "text": [
      "\u001b[1m\u001b[4mQueries\u001b[0m\u001b[0m\n",
      "INSERT INTO employee VALUES('Jones', '50000.00', '1001');\n",
      "INSERT INTO employee VALUES('Peters', '45000.00', '1002');\n",
      "INSERT INTO employee VALUES('Rowe', '35000.00', '1003');\n",
      "INSERT INTO employee VALUES('Phillips', '25000.00', '1004');\n",
      "INSERT INTO employee VALUES('Gates', '5000000.00', '1005');\n",
      "INSERT INTO employee VALUES('Clark', '150000.00', '1006');\n",
      "INSERT INTO employee VALUES('Warnock', '500000.00', '1007');\n",
      "\n",
      "\u001b[1mRows affected: \u001b[0m7\n",
      "\n",
      "╴╴╴╴╴╴╴╴╴╴╴╴╴╴╴╴╴╴╴╴╴╴╴╴╴╴╴╴╴╴╴╴╴╴╴╴╴╴╴╴╴╴╴╴╴╴╴╴╴╴╴╴╴╴╴╴╴╴╴╴╴╴╴╴╴╴╴╴╴╴╴╴╴╴╴╴╴╴╴╴╴╴╴╴╴╴╴╴╴╴╴╴╴╴╴╴╴╴╴╴╴╴╴╴╴╴╴╴╴╴╴╴╴╴╴╴╴╴╴╴╴╴╴╴╴╴╴\n"
     ]
    }
   ],
   "source": [
    "# employee\n",
    "rows_affected = 0\n",
    "csv_file = file_type.format(table)\n",
    "\n",
    "table = table_names[3]\n",
    "csv_file = file_type.format(table)\n",
    "records = read_csv(csv_file)\n",
    "\n",
    "print(\"\\x1b[1m\\033[4mQueries\\033[0m\\x1b[0m\")\n",
    "for record in records:\n",
    "    print(\"INSERT INTO \" + table + \" VALUES('\" + str(record[0]) + \"', '\" + str(record[1]) + \"', '\" + str(record[2] + \"');\"))\n",
    "    cursor.execute(\"INSERT INTO \" + table + \" VALUES('\" + str(record[0]) + \"', '\" + str(record[1]) + \"', '\" + str(record[2]) + \"');\")\n",
    "    rows_affected += cursor.rowcount\n",
    "print(\"\\n\\x1b[1m\" + \"Rows affected: \" + \"\\x1b[0m\" + str(rows_affected) + \"\\n\\n\" + '╴' * 127)\n",
    "\n"
   ]
  },
  {
   "cell_type": "code",
   "execution_count": 11,
   "id": "0daaa7ba",
   "metadata": {},
   "outputs": [
    {
     "name": "stdout",
     "output_type": "stream",
     "text": [
      "\u001b[1m\u001b[4mQueries\u001b[0m\u001b[0m\n",
      "INSERT INTO can_fly VALUES('1001', 'B727');\n",
      "INSERT INTO can_fly VALUES('1001', 'B747');\n",
      "INSERT INTO can_fly VALUES('1001', 'DC10');\n",
      "INSERT INTO can_fly VALUES('1002', 'DC9');\n",
      "INSERT INTO can_fly VALUES('1002', 'A340');\n",
      "INSERT INTO can_fly VALUES('1002', 'B757');\n",
      "INSERT INTO can_fly VALUES('1002', 'A320');\n",
      "INSERT INTO can_fly VALUES('1003', 'A310');\n",
      "INSERT INTO can_fly VALUES('1003', 'DC9');\n",
      "\n",
      "\u001b[1mRows affected: \u001b[0m9\n",
      "\n",
      "╴╴╴╴╴╴╴╴╴╴╴╴╴╴╴╴╴╴╴╴╴╴╴╴╴╴╴╴╴╴╴╴╴╴╴╴╴╴╴╴╴╴╴╴╴╴╴╴╴╴╴╴╴╴╴╴╴╴╴╴╴╴╴╴╴╴╴╴╴╴╴╴╴╴╴╴╴╴╴╴╴╴╴╴╴╴╴╴╴╴╴╴╴╴╴╴╴╴╴╴╴╴╴╴╴╴╴╴╴╴╴╴╴╴╴╴╴╴╴╴╴╴╴╴╴╴╴\n"
     ]
    }
   ],
   "source": [
    "# can_fly\n",
    "rows_affected = 0\n",
    "csv_file = file_type.format(table)\n",
    "\n",
    "table = table_names[1]\n",
    "csv_file = file_type.format(table)\n",
    "records = read_csv(csv_file)\n",
    "\n",
    "print(\"\\x1b[1m\\033[4mQueries\\033[0m\\x1b[0m\")\n",
    "for record in records:\n",
    "    print(\"INSERT INTO \" + table + \" VALUES('\" + str(record[0]) + \"', '\" + str(record[1]) + \"');\")\n",
    "    cursor.execute(\"INSERT INTO \" + table + \" VALUES('\" + str(record[0]) + \"', '\" + str(record[1]) + \"');\")\n",
    "    rows_affected += cursor.rowcount\n",
    "print(\"\\n\\x1b[1m\" + \"Rows affected: \" + \"\\x1b[0m\" + str(rows_affected) + \"\\n\\n\" + '╴' * 127)"
   ]
  },
  {
   "cell_type": "code",
   "execution_count": 12,
   "id": "4f25c9b2",
   "metadata": {},
   "outputs": [
    {
     "name": "stdout",
     "output_type": "stream",
     "text": [
      "\u001b[1m\u001b[4mQueries\u001b[0m\u001b[0m\n",
      "INSERT INTO pilot VALUES('1001', '6000');\n",
      "INSERT INTO pilot VALUES('1002', '24000');\n",
      "INSERT INTO pilot VALUES('1003', '15000');\n",
      "\n",
      "\u001b[1mRows affected: \u001b[0m3\n",
      "\n",
      "╴╴╴╴╴╴╴╴╴╴╴╴╴╴╴╴╴╴╴╴╴╴╴╴╴╴╴╴╴╴╴╴╴╴╴╴╴╴╴╴╴╴╴╴╴╴╴╴╴╴╴╴╴╴╴╴╴╴╴╴╴╴╴╴╴╴╴╴╴╴╴╴╴╴╴╴╴╴╴╴╴╴╴╴╴╴╴╴╴╴╴╴╴╴╴╴╴╴╴╴╴╴╴╴╴╴╴╴╴╴╴╴╴╴╴╴╴╴╴╴╴╴╴╴╴╴╴\n"
     ]
    }
   ],
   "source": [
    "# pilot\n",
    "rows_affected = 0\n",
    "csv_file = file_type.format(table)\n",
    "\n",
    "table = table_names[6]\n",
    "csv_file = file_type.format(table)\n",
    "records = read_csv(csv_file)\n",
    "\n",
    "print(\"\\x1b[1m\\033[4mQueries\\033[0m\\x1b[0m\")\n",
    "for record in records:\n",
    "    print(\"INSERT INTO \" + table + \" VALUES('\" + str(record[0]) + \"', '\" + str(record[1]) + \"');\")\n",
    "    cursor.execute(\"INSERT INTO \" + table + \" VALUES('\" + str(record[0]) + \"', '\" + str(record[1]) + \"');\")\n",
    "    rows_affected += cursor.rowcount\n",
    "print(\"\\n\\x1b[1m\" + \"Rows affected: \" + \"\\x1b[0m\" + str(rows_affected) + \"\\n\\n\" + '╴' * 127)"
   ]
  },
  {
   "cell_type": "code",
   "execution_count": 13,
   "id": "d26e3158",
   "metadata": {},
   "outputs": [
    {
     "name": "stdout",
     "output_type": "stream",
     "text": [
      "\u001b[1m\u001b[4mQueries\u001b[0m\u001b[0m\n",
      "INSERT INTO flight VALUES('100', 'SLC', 'BOS', '08:00', '17:50', 'on-time');\n",
      "INSERT INTO flight VALUES('206', 'DFW', 'STL', '09:00', '11:40', 'on-time');\n",
      "INSERT INTO flight VALUES('334', 'ORD', 'MIA', '12:00', '14:14', 'on-time');\n",
      "INSERT INTO flight VALUES('335', 'MIA', 'ORD', '15:00', '17:14', 'on-time');\n",
      "INSERT INTO flight VALUES('336', 'ORD', 'MIA', '18:00', '20:14', 'on-time');\n",
      "INSERT INTO flight VALUES('337', 'MIA', 'ORD', '20:30', '23:53', 'on-time');\n",
      "INSERT INTO flight VALUES('121', 'STL', 'SLC', '07:00', '09:13', 'on-time');\n",
      "INSERT INTO flight VALUES('122', 'STL', 'YYV', '08:30', '10:19', 'on-time');\n",
      "INSERT INTO flight VALUES('330', 'JFK', 'YYV', '16:00', '18:53', 'on-time');\n",
      "INSERT INTO flight VALUES('991', 'BOS', 'ORD', '17:00', '18:22', 'on-time');\n",
      "INSERT INTO flight VALUES('394', 'DFW', 'MIA', '19:00', '21:30', 'on-time');\n",
      "INSERT INTO flight VALUES('395', 'MIA', 'DFW', '21:00', '23:43', 'on-time');\n",
      "INSERT INTO flight VALUES('449', 'CDG', 'DEN', '10:00', '19:29', 'on-time');\n",
      "INSERT INTO flight VALUES('930', 'YYV', 'DCA', '13:00', '16:10', 'on-time');\n",
      "INSERT INTO flight VALUES('931', 'DCA', 'YYV', '17:00', '18:10', 'on-time');\n",
      "INSERT INTO flight VALUES('932', 'DCA', 'YYV', '18:00', '19:10', 'on-time');\n",
      "INSERT INTO flight VALUES('112', 'DCA', 'DEN', '14:00', '18:07', 'on-time');\n",
      "\n",
      "\u001b[1mRows affected: \u001b[0m17\n",
      "\n",
      "╴╴╴╴╴╴╴╴╴╴╴╴╴╴╴╴╴╴╴╴╴╴╴╴╴╴╴╴╴╴╴╴╴╴╴╴╴╴╴╴╴╴╴╴╴╴╴╴╴╴╴╴╴╴╴╴╴╴╴╴╴╴╴╴╴╴╴╴╴╴╴╴╴╴╴╴╴╴╴╴╴╴╴╴╴╴╴╴╴╴╴╴╴╴╴╴╴╴╴╴╴╴╴╴╴╴╴╴╴╴╴╴╴╴╴╴╴╴╴╴╴╴╴╴╴╴╴\n"
     ]
    }
   ],
   "source": [
    "# flight\n",
    "rows_affected = 0\n",
    "csv_file = file_type.format(table)\n",
    "\n",
    "table = table_names[4]\n",
    "csv_file = file_type.format(table)\n",
    "records = read_csv(csv_file)\n",
    "\n",
    "print(\"\\x1b[1m\\033[4mQueries\\033[0m\\x1b[0m\")\n",
    "for record in records:\n",
    "    print(\"INSERT INTO \" + table + \" VALUES('\" + str(record[0]) + \"', '\" + str(record[1]) + \"', '\" + str(record[2]) + \"', '\" + str(record[3]) + \"', '\" + str(record[4]) + \"', '\" + str(record[5]) + \"');\")\n",
    "    cursor.execute(\"INSERT INTO \" + table + \" VALUES('\" + str(record[0]) + \"', '\" + str(record[1]) + \"', '\" + str(record[2]) + \"', '\" + str(record[3]) + \"', '\" + str(record[4]) + \"', '\" + str(record[5]) + \"');\")\n",
    "    rows_affected += cursor.rowcount\n",
    "print(\"\\n\\x1b[1m\" + \"Rows affected: \" + \"\\x1b[0m\" + str(rows_affected) + \"\\n\\n\" + '╴' * 127)"
   ]
  },
  {
   "cell_type": "code",
   "execution_count": 14,
   "id": "6d28907c",
   "metadata": {},
   "outputs": [
    {
     "name": "stdout",
     "output_type": "stream",
     "text": [
      "\u001b[1m\u001b[4mQueries\u001b[0m\u001b[0m\n",
      "INSERT INTO departure VALUES( STR_TO_DATE('June 30 2021', '%M %d %Y'), '100');\n",
      "INSERT INTO departure VALUES( STR_TO_DATE('June 30 2021', '%M %d %Y'), '112');\n",
      "INSERT INTO departure VALUES( STR_TO_DATE('June 30 2021', '%M %d %Y'), '206');\n",
      "INSERT INTO departure VALUES( STR_TO_DATE('June 30 2021', '%M %d %Y'), '334');\n",
      "INSERT INTO departure VALUES( STR_TO_DATE('June 30 2021', '%M %d %Y'), '335');\n",
      "INSERT INTO departure VALUES( STR_TO_DATE('June 30 2021', '%M %d %Y'), '337');\n",
      "INSERT INTO departure VALUES( STR_TO_DATE('June 30 2021', '%M %d %Y'), '449');\n",
      "INSERT INTO departure VALUES( STR_TO_DATE('Jul 8 2021', '%M %d %Y'), '100');\n",
      "INSERT INTO departure VALUES( STR_TO_DATE('Jul 8 2021', '%M %d %Y'), '112');\n",
      "INSERT INTO departure VALUES( STR_TO_DATE('Jul 8 2021', '%M %d %Y'), '206');\n",
      "INSERT INTO departure VALUES( STR_TO_DATE('Jul 8 2021', '%M %d %Y'), '334');\n",
      "INSERT INTO departure VALUES( STR_TO_DATE('Jul 8 2021', '%M %d %Y'), '395');\n",
      "INSERT INTO departure VALUES( STR_TO_DATE('Jul 8 2021', '%M %d %Y'), '991');\n",
      "\n",
      "\u001b[1mRows affected: \u001b[0m13\n",
      "\n",
      "╴╴╴╴╴╴╴╴╴╴╴╴╴╴╴╴╴╴╴╴╴╴╴╴╴╴╴╴╴╴╴╴╴╴╴╴╴╴╴╴╴╴╴╴╴╴╴╴╴╴╴╴╴╴╴╴╴╴╴╴╴╴╴╴╴╴╴╴╴╴╴╴╴╴╴╴╴╴╴╴╴╴╴╴╴╴╴╴╴╴╴╴╴╴╴╴╴╴╴╴╴╴╴╴╴╴╴╴╴╴╴╴╴╴╴╴╴╴╴╴╴╴╴╴╴╴╴\n"
     ]
    }
   ],
   "source": [
    "# departure\n",
    "rows_affected = 0\n",
    "csv_file = file_type.format(table)\n",
    "\n",
    "table = table_names[2]\n",
    "csv_file = file_type.format(table)\n",
    "records = read_csv(csv_file)\n",
    "\n",
    "print(\"\\x1b[1m\\033[4mQueries\\033[0m\\x1b[0m\")\n",
    "for record in records:\n",
    "    print(\"INSERT INTO \" + table + \" VALUES(\" + \" STR_TO_DATE('\" + str(record[0]) + \" \" + str(record[1]) + \"', '%M %d %Y')\" + \", '\" + str(record[2]) + \"');\")\n",
    "    cursor.execute(\"INSERT INTO \" + table + \" VALUES(\" + \" STR_TO_DATE('\" + str(record[0]) + \" \" + str(record[1]) + \"', '%M %d %Y')\" + \", '\" + str(record[2]) + \"');\")\n",
    "    rows_affected += cursor.rowcount\n",
    "print(\"\\n\\x1b[1m\" + \"Rows affected: \" + \"\\x1b[0m\" + str(rows_affected) + \"\\n\\n\" + '╴' * 127)"
   ]
  },
  {
   "cell_type": "markdown",
   "id": "bf6536d2",
   "metadata": {},
   "source": [
    "` `  \n",
    "__*Commit changes to database*__"
   ]
  },
  {
   "cell_type": "code",
   "execution_count": 15,
   "id": "694ed5e6",
   "metadata": {},
   "outputs": [],
   "source": [
    "connection.commit()"
   ]
  },
  {
   "cell_type": "markdown",
   "id": "ad85c41d",
   "metadata": {},
   "source": [
    "` `  \n",
    "__*Display all tables (in table_names) from the database*__"
   ]
  },
  {
   "cell_type": "code",
   "execution_count": 16,
   "id": "4de81e93",
   "metadata": {
    "scrolled": false
   },
   "outputs": [
    {
     "name": "stdout",
     "output_type": "stream",
     "text": [
      "\u001b[1m\u001b[4maircraft\u001b[0m\u001b[0m\n",
      "70 A310\n",
      "80 A320\n",
      "11 B727\n",
      "13 B727\n",
      "10 B747\n",
      "13 B747\n",
      "22 B757\n",
      "93 B757\n",
      "21 DC10\n",
      "21 DC9\n",
      "22 DC9\n",
      "23 DC9\n",
      "24 DC9\n",
      "\n",
      "\u001b[1m\u001b[4mcan_fly\u001b[0m\u001b[0m\n",
      "1003 A310\n",
      "1002 A320\n",
      "1002 A340\n",
      "1001 B727\n",
      "1001 B747\n",
      "1002 B757\n",
      "1001 DC10\n",
      "1002 DC9\n",
      "1003 DC9\n",
      "\n",
      "\u001b[1m\u001b[4mdeparture\u001b[0m\u001b[0m\n",
      "2021-06-30 100\n",
      "2021-07-08 100\n",
      "2021-06-30 112\n",
      "2021-07-08 112\n",
      "2021-06-30 206\n",
      "2021-07-08 206\n",
      "2021-06-30 334\n",
      "2021-07-08 334\n",
      "2021-06-30 335\n",
      "2021-06-30 337\n",
      "2021-07-08 395\n",
      "2021-06-30 449\n",
      "2021-07-08 991\n",
      "\n",
      "\u001b[1m\u001b[4memployee\u001b[0m\u001b[0m\n",
      "Jones 50000 1001\n",
      "Peters 45000 1002\n",
      "Rowe 35000 1003\n",
      "Phillips 25000 1004\n",
      "Gates 5000000 1005\n",
      "Clark 150000 1006\n",
      "Warnock 500000 1007\n",
      "\n",
      "\u001b[1m\u001b[4mflight\u001b[0m\u001b[0m\n",
      "100 SLC BOS 8:00:00 17:50:00 on-time\n",
      "112 DCA DEN 14:00:00 18:07:00 on-time\n",
      "121 STL SLC 7:00:00 9:13:00 on-time\n",
      "122 STL YYV 8:30:00 10:19:00 on-time\n",
      "206 DFW STL 9:00:00 11:40:00 on-time\n",
      "330 JFK YYV 16:00:00 18:53:00 on-time\n",
      "334 ORD MIA 12:00:00 14:14:00 on-time\n",
      "335 MIA ORD 15:00:00 17:14:00 on-time\n",
      "336 ORD MIA 18:00:00 20:14:00 on-time\n",
      "337 MIA ORD 20:30:00 23:53:00 on-time\n",
      "394 DFW MIA 19:00:00 21:30:00 on-time\n",
      "395 MIA DFW 21:00:00 23:43:00 on-time\n",
      "449 CDG DEN 10:00:00 19:29:00 on-time\n",
      "930 YYV DCA 13:00:00 16:10:00 on-time\n",
      "931 DCA YYV 17:00:00 18:10:00 on-time\n",
      "932 DCA YYV 18:00:00 19:10:00 on-time\n",
      "991 BOS ORD 17:00:00 18:22:00 on-time\n",
      "\n",
      "\u001b[1m\u001b[4mperson\u001b[0m\u001b[0m\n",
      "Clark 223 Easy St. 801-193-2320\n",
      "Edwards 567 Spruce St. 801-228-6729\n",
      "Gates 285 Kapok St. 801-493-2203\n",
      "Green 435 Alder St. 801-933-2320\n",
      "Hooper 456 Maple St. 313-912-2101\n",
      "Jones 234 Oak St. 801-552-2943\n",
      "MacBride 789 Fir St. null\n",
      "Majeris 678 Willow St. null\n",
      "Peters 345 Pine St. 801-393-2230\n",
      "Phillips 395 Pine St. 801-323-2320\n",
      "Rowe 348 Elder St. 801-343-2320\n",
      "Smith 123 Elm St. 801-556-2239\n",
      "Warnock 775 Main St. 801-303-2222\n",
      "\n",
      "\u001b[1m\u001b[4mpilot\u001b[0m\u001b[0m\n",
      "1001 6000\n",
      "1002 24000\n",
      "1003 15000\n",
      "\n",
      "\u001b[1m\u001b[4mplane\u001b[0m\u001b[0m\n",
      "Airbus A310\n",
      "Airbus A320\n",
      "Airbus A330\n",
      "Airbus A340\n",
      "Boeing B727\n",
      "Boeing B747\n",
      "Boeing B757\n",
      "MD DC10\n",
      "MD DC9\n",
      "\n",
      "╴╴╴╴╴╴╴╴╴╴╴╴╴╴╴╴╴╴╴╴╴╴╴╴╴╴╴╴╴╴╴╴╴╴╴╴╴╴╴╴╴╴╴╴╴╴╴╴╴╴╴╴╴╴╴╴╴╴╴╴╴╴╴╴╴╴╴╴╴╴╴╴╴╴╴╴╴╴╴╴╴╴╴╴╴╴╴╴╴╴╴╴╴╴╴╴╴╴╴╴╴╴╴╴╴╴╴╴╴╴╴╴╴╴╴╴╴╴╴╴╴╴╴╴╴╴╴\n"
     ]
    }
   ],
   "source": [
    "# For each table in table_names select all & then print\n",
    "for name in table_names:\n",
    "    print(\"\\x1b[1m\\033[4m\" + name + \"\\033[0m\\x1b[0m\")\n",
    "    cursor.execute(\"SELECT * FROM \" + name + \";\")\n",
    "    for row in cursor.fetchall():\n",
    "        print(*row)\n",
    "    print()\n",
    "print('╴' * 127)"
   ]
  },
  {
   "cell_type": "markdown",
   "id": "72aab234",
   "metadata": {},
   "source": [
    "` `  \n",
    "## B.)\n",
    "═══════════════════════════════════════════════════════════════════════════════════════════"
   ]
  },
  {
   "cell_type": "markdown",
   "id": "af1b8f7d",
   "metadata": {},
   "source": [
    "` `  \n",
    "__*Execute querys to insert CSV data from files*__"
   ]
  },
  {
   "cell_type": "code",
   "execution_count": 17,
   "id": "9764e2a0",
   "metadata": {},
   "outputs": [
    {
     "name": "stdout",
     "output_type": "stream",
     "text": [
      "\u001b[1m\u001b[4mQueries\u001b[0m\u001b[0m\n",
      "INSERT IGNORE INTO booked_on VALUES('DBA001', '100');\n",
      "INSERT IGNORE INTO booked_on VALUES('DBA002', '206');\n",
      "INSERT IGNORE INTO booked_on VALUES('DBA003', '334');\n",
      "INSERT IGNORE INTO booked_on VALUES('DBA004', '449');\n",
      "INSERT IGNORE INTO booked_on VALUES('DBA005', '991');\n",
      "INSERT IGNORE INTO booked_on VALUES('DBA006', '991');\n",
      "INSERT IGNORE INTO booked_on VALUES('DBA007', '100');\n",
      "INSERT IGNORE INTO booked_on VALUES('DBA008', '100');\n",
      "INSERT IGNORE INTO booked_on VALUES('DBA009', '449');\n",
      "INSERT IGNORE INTO booked_on VALUES('DBA010', '449');\n",
      "INSERT IGNORE INTO booked_on VALUES('DBA011', '991');\n",
      "INSERT IGNORE INTO booked_on VALUES('DBA012', '100');\n",
      "\n",
      "\u001b[1mRows affected: \u001b[0m12\n",
      "\n",
      "╴╴╴╴╴╴╴╴╴╴╴╴╴╴╴╴╴╴╴╴╴╴╴╴╴╴╴╴╴╴╴╴╴╴╴╴╴╴╴╴╴╴╴╴╴╴╴╴╴╴╴╴╴╴╴╴╴╴╴╴╴╴╴╴╴╴╴╴╴╴╴╴╴╴╴╴╴╴╴╴╴╴╴╴╴╴╴╴╴╴╴╴╴╴╴╴╴╴╴╴╴╴╴╴╴╴╴╴╴╴╴╴╴╴╴╴╴╴╴╴╴╴╴╴╴╴╴\n"
     ]
    }
   ],
   "source": [
    "# booked_on\n",
    "rows_affected = 0\n",
    "csv_file = file_type.format(table)\n",
    "\n",
    "table = no_csv[0]\n",
    "csv_file = file_type.format(table)\n",
    "records = read_csv(csv_file)\n",
    "\n",
    "print(\"\\x1b[1m\\033[4mQueries\\033[0m\\x1b[0m\")\n",
    "for record in records:\n",
    "    print(\"INSERT IGNORE INTO \" + table + \" VALUES('\" + str(record[0]) + \"', '\" + str(record[1]) + \"');\")\n",
    "    cursor.execute(\"INSERT IGNORE INTO \" + table + \" VALUES('\" + str(record[0]) + \"', '\" + str(record[1]) + \"');\")\n",
    "    rows_affected += cursor.rowcount\n",
    "print(\"\\n\\x1b[1m\" + \"Rows affected: \" + \"\\x1b[0m\" + str(rows_affected) + \"\\n\\n\" + '╴' * 127)"
   ]
  },
  {
   "cell_type": "code",
   "execution_count": 18,
   "id": "535fa231",
   "metadata": {},
   "outputs": [
    {
     "name": "stdout",
     "output_type": "stream",
     "text": [
      "\u001b[1m\u001b[4mQueries\u001b[0m\u001b[0m\n",
      "INSERT IGNORE INTO passenger VALUES('Smith', 'DBA001');\n",
      "INSERT IGNORE INTO passenger VALUES('Green', 'DBA002');\n",
      "INSERT IGNORE INTO passenger VALUES('Hooper', 'DBA003');\n",
      "INSERT IGNORE INTO passenger VALUES('Edwards', 'DBA004');\n",
      "INSERT IGNORE INTO passenger VALUES('MacBride', 'DBA005');\n",
      "INSERT IGNORE INTO passenger VALUES('Gates', 'DBA006');\n",
      "INSERT IGNORE INTO passenger VALUES('Rowe', 'DBA007');\n",
      "INSERT IGNORE INTO passenger VALUES('Clark', 'DBA008');\n",
      "INSERT IGNORE INTO passenger VALUES('Phillips', 'DBA009');\n",
      "INSERT IGNORE INTO passenger VALUES('Warnock', 'DBA010');\n",
      "INSERT IGNORE INTO passenger VALUES('Smith', 'DBA011');\n",
      "INSERT IGNORE INTO passenger VALUES('Peters', 'DBA012');\n",
      "\n",
      "\u001b[1mRows affected: \u001b[0m12\n",
      "\n",
      "╴╴╴╴╴╴╴╴╴╴╴╴╴╴╴╴╴╴╴╴╴╴╴╴╴╴╴╴╴╴╴╴╴╴╴╴╴╴╴╴╴╴╴╴╴╴╴╴╴╴╴╴╴╴╴╴╴╴╴╴╴╴╴╴╴╴╴╴╴╴╴╴╴╴╴╴╴╴╴╴╴╴╴╴╴╴╴╴╴╴╴╴╴╴╴╴╴╴╴╴╴╴╴╴╴╴╴╴╴╴╴╴╴╴╴╴╴╴╴╴╴╴╴╴╴╴╴\n"
     ]
    }
   ],
   "source": [
    "# passenger\n",
    "rows_affected = 0\n",
    "csv_file = file_type.format(table)\n",
    "\n",
    "table = no_csv[1]\n",
    "csv_file = file_type.format(table)\n",
    "records = read_csv(csv_file)\n",
    "\n",
    "print(\"\\x1b[1m\\033[4mQueries\\033[0m\\x1b[0m\")\n",
    "for record in records:\n",
    "    print(\"INSERT IGNORE INTO \" + table + \" VALUES('\" + str(record[0]) + \"', '\" + str(record[1]) + \"');\")\n",
    "    cursor.execute(\"INSERT IGNORE INTO \" + table + \" VALUES('\" + str(record[0]) + \"', '\" + str(record[1]) + \"');\")\n",
    "    rows_affected += cursor.rowcount\n",
    "print(\"\\n\\x1b[1m\" + \"Rows affected: \" + \"\\x1b[0m\" + str(rows_affected) + \"\\n\\n\" + '╴' * 127)"
   ]
  },
  {
   "cell_type": "code",
   "execution_count": 19,
   "id": "efeec9cc",
   "metadata": {
    "scrolled": true
   },
   "outputs": [
    {
     "name": "stdout",
     "output_type": "stream",
     "text": [
      "\u001b[1m\u001b[4mQueries\u001b[0m\u001b[0m\n",
      "INSERT IGNORE INTO departure VALUES( STR_TO_DATE('June 30 2021', '%M %d %Y'), '100');\n",
      "INSERT IGNORE INTO departure VALUES( STR_TO_DATE('June 30 2021', '%M %d %Y'), '206');\n",
      "INSERT IGNORE INTO departure VALUES( STR_TO_DATE('June 30 2021', '%M %d %Y'), '334');\n",
      "INSERT IGNORE INTO departure VALUES( STR_TO_DATE('June 30 2021', '%M %d %Y'), '449');\n",
      "INSERT IGNORE INTO departure VALUES( STR_TO_DATE('July 8 2021', '%M %d %Y'), '991');\n",
      "INSERT IGNORE INTO departure VALUES( STR_TO_DATE('July 8 2021', '%M %d %Y'), '991');\n",
      "INSERT IGNORE INTO departure VALUES( STR_TO_DATE('July 8 2021', '%M %d %Y'), '100');\n",
      "INSERT IGNORE INTO departure VALUES( STR_TO_DATE('July 8 2021', '%M %d %Y'), '100');\n",
      "INSERT IGNORE INTO departure VALUES( STR_TO_DATE('June 30 2021', '%M %d %Y'), '449');\n",
      "INSERT IGNORE INTO departure VALUES( STR_TO_DATE('June 30 2021', '%M %d %Y'), '449');\n",
      "INSERT IGNORE INTO departure VALUES( STR_TO_DATE('July 8 2021', '%M %d %Y'), '991');\n",
      "INSERT IGNORE INTO departure VALUES( STR_TO_DATE('July 8 2021', '%M %d %Y'), '100');\n",
      "\n",
      "\u001b[1mRows affected: \u001b[0m0\n",
      "\n",
      "╴╴╴╴╴╴╴╴╴╴╴╴╴╴╴╴╴╴╴╴╴╴╴╴╴╴╴╴╴╴╴╴╴╴╴╴╴╴╴╴╴╴╴╴╴╴╴╴╴╴╴╴╴╴╴╴╴╴╴╴╴╴╴╴╴╴╴╴╴╴╴╴╴╴╴╴╴╴╴╴╴╴╴╴╴╴╴╴╴╴╴╴╴╴╴╴╴╴╴╴╴╴╴╴╴╴╴╴╴╴╴╴╴╴╴╴╴╴╴╴╴╴╴╴╴╴╴\n"
     ]
    }
   ],
   "source": [
    "# more_departure\n",
    "rows_affected = 0\n",
    "csv_file = file_type.format(table)\n",
    "\n",
    "csv_file = file_type.format(\"departure\")\n",
    "records = read_csv(\"more_departure.csv\")\n",
    "\n",
    "\n",
    "print(\"\\x1b[1m\\033[4mQueries\\033[0m\\x1b[0m\")\n",
    "for record in records:\n",
    "    print(\"INSERT IGNORE INTO departure VALUES(\" + \" STR_TO_DATE('\" + str(record[0]) + \" \" + str(record[1]) + \"', '%M %d %Y')\" + \", '\" + str(record[2]) + \"');\")\n",
    "    cursor.execute(\"INSERT IGNORE INTO departure VALUES(\" + \" STR_TO_DATE('\" + str(record[0]) + \" \" + str(record[1]) + \"', '%M %d %Y')\" + \", '\" + str(record[2]) + \"');\")\n",
    "    \n",
    "rows_affected += cursor.rowcount\n",
    "print(\"\\n\\x1b[1m\" + \"Rows affected: \" + \"\\x1b[0m\" + str(rows_affected) + \"\\n\\n\" + '╴' * 127)"
   ]
  },
  {
   "cell_type": "markdown",
   "id": "9afb891d",
   "metadata": {},
   "source": [
    "*No rows should be affected as all departure attributes are duplicates to those already in database.*  \n",
    "` `  "
   ]
  },
  {
   "cell_type": "code",
   "execution_count": 20,
   "id": "443fdb62",
   "metadata": {
    "scrolled": true
   },
   "outputs": [
    {
     "name": "stdout",
     "output_type": "stream",
     "text": [
      "\u001b[1m\u001b[4mQueries\u001b[0m\u001b[0m\n",
      "INSERT IGNORE INTO assigned_to VALUES('100', '1001');\n",
      "INSERT IGNORE INTO assigned_to VALUES('100', '1002');\n",
      "INSERT IGNORE INTO assigned_to VALUES('100', '1003');\n",
      "INSERT IGNORE INTO assigned_to VALUES('100', '1004');\n",
      "INSERT IGNORE INTO assigned_to VALUES('206', '1007');\n",
      "INSERT IGNORE INTO assigned_to VALUES('337', '1003');\n",
      "INSERT IGNORE INTO assigned_to VALUES('337', '1004');\n",
      "INSERT IGNORE INTO assigned_to VALUES('337', '1005');\n",
      "INSERT IGNORE INTO assigned_to VALUES('337', '1006');\n",
      "INSERT IGNORE INTO assigned_to VALUES('100', '1001');\n",
      "INSERT IGNORE INTO assigned_to VALUES('100', '1002');\n",
      "INSERT IGNORE INTO assigned_to VALUES('991', '1006');\n",
      "INSERT IGNORE INTO assigned_to VALUES('991', '1007');\n",
      "INSERT IGNORE INTO assigned_to VALUES('112', '1007');\n",
      "\n",
      "\u001b[1mRows affected: \u001b[0m1\n",
      "\n",
      "╴╴╴╴╴╴╴╴╴╴╴╴╴╴╴╴╴╴╴╴╴╴╴╴╴╴╴╴╴╴╴╴╴╴╴╴╴╴╴╴╴╴╴╴╴╴╴╴╴╴╴╴╴╴╴╴╴╴╴╴╴╴╴╴╴╴╴╴╴╴╴╴╴╴╴╴╴╴╴╴╴╴╴╴╴╴╴╴╴╴╴╴╴╴╴╴╴╴╴╴╴╴╴╴╴╴╴╴╴╴╴╴╴╴╴╴╴╴╴╴╴╴╴╴╴╴╴\n"
     ]
    }
   ],
   "source": [
    "# assigned_to\n",
    "rows_affected = 0\n",
    "csv_file = file_type.format(table)\n",
    "\n",
    "table = no_csv[2]\n",
    "csv_file = file_type.format(table)\n",
    "records = read_csv(csv_file)\n",
    "\n",
    "print(\"\\x1b[1m\\033[4mQueries\\033[0m\\x1b[0m\")\n",
    "for record in records:\n",
    "    print(\"INSERT IGNORE INTO \" + table + \" VALUES('\" + str(record[0]) + \"', '\" + str(record[1]) + \"');\")\n",
    "    cursor.execute(\"INSERT IGNORE INTO \" + table + \" VALUES('\" + str(record[0]) + \"', '\" + str(record[1]) + \"');\")\n",
    "rows_affected += cursor.rowcount\n",
    "print(\"\\n\\x1b[1m\" + \"Rows affected: \" + \"\\x1b[0m\" + str(rows_affected) + \"\\n\\n\" + '╴' * 127)"
   ]
  },
  {
   "cell_type": "markdown",
   "id": "6c264ba8",
   "metadata": {},
   "source": [
    "` `  \n",
    "__*Commit changes to database*__"
   ]
  },
  {
   "cell_type": "code",
   "execution_count": 21,
   "id": "63dcadf8",
   "metadata": {},
   "outputs": [],
   "source": [
    "connection.commit()"
   ]
  },
  {
   "cell_type": "markdown",
   "id": "5f5311bb",
   "metadata": {},
   "source": [
    "` `  \n",
    "__*Display all tables in the database*__"
   ]
  },
  {
   "cell_type": "code",
   "execution_count": 22,
   "id": "36a4b99c",
   "metadata": {
    "scrolled": false
   },
   "outputs": [
    {
     "name": "stdout",
     "output_type": "stream",
     "text": [
      "\u001b[1m\u001b[4maircraft\u001b[0m\u001b[0m\n",
      "70 A310\n",
      "80 A320\n",
      "11 B727\n",
      "13 B727\n",
      "10 B747\n",
      "13 B747\n",
      "22 B757\n",
      "93 B757\n",
      "21 DC10\n",
      "21 DC9\n",
      "22 DC9\n",
      "23 DC9\n",
      "24 DC9\n",
      "\n",
      "\u001b[1m\u001b[4mcan_fly\u001b[0m\u001b[0m\n",
      "1003 A310\n",
      "1002 A320\n",
      "1002 A340\n",
      "1001 B727\n",
      "1001 B747\n",
      "1002 B757\n",
      "1001 DC10\n",
      "1002 DC9\n",
      "1003 DC9\n",
      "\n",
      "\u001b[1m\u001b[4mdeparture\u001b[0m\u001b[0m\n",
      "2021-06-30 100\n",
      "2021-07-08 100\n",
      "2021-06-30 112\n",
      "2021-07-08 112\n",
      "2021-06-30 206\n",
      "2021-07-08 206\n",
      "2021-06-30 334\n",
      "2021-07-08 334\n",
      "2021-06-30 335\n",
      "2021-06-30 337\n",
      "2021-07-08 395\n",
      "2021-06-30 449\n",
      "2021-07-08 991\n",
      "\n",
      "\u001b[1m\u001b[4memployee\u001b[0m\u001b[0m\n",
      "Jones 50000 1001\n",
      "Peters 45000 1002\n",
      "Rowe 35000 1003\n",
      "Phillips 25000 1004\n",
      "Gates 5000000 1005\n",
      "Clark 150000 1006\n",
      "Warnock 500000 1007\n",
      "\n",
      "\u001b[1m\u001b[4mflight\u001b[0m\u001b[0m\n",
      "100 SLC BOS 8:00:00 17:50:00 on-time\n",
      "112 DCA DEN 14:00:00 18:07:00 on-time\n",
      "121 STL SLC 7:00:00 9:13:00 on-time\n",
      "122 STL YYV 8:30:00 10:19:00 on-time\n",
      "206 DFW STL 9:00:00 11:40:00 on-time\n",
      "330 JFK YYV 16:00:00 18:53:00 on-time\n",
      "334 ORD MIA 12:00:00 14:14:00 on-time\n",
      "335 MIA ORD 15:00:00 17:14:00 on-time\n",
      "336 ORD MIA 18:00:00 20:14:00 on-time\n",
      "337 MIA ORD 20:30:00 23:53:00 on-time\n",
      "394 DFW MIA 19:00:00 21:30:00 on-time\n",
      "395 MIA DFW 21:00:00 23:43:00 on-time\n",
      "449 CDG DEN 10:00:00 19:29:00 on-time\n",
      "930 YYV DCA 13:00:00 16:10:00 on-time\n",
      "931 DCA YYV 17:00:00 18:10:00 on-time\n",
      "932 DCA YYV 18:00:00 19:10:00 on-time\n",
      "991 BOS ORD 17:00:00 18:22:00 on-time\n",
      "\n",
      "\u001b[1m\u001b[4mperson\u001b[0m\u001b[0m\n",
      "Clark 223 Easy St. 801-193-2320\n",
      "Edwards 567 Spruce St. 801-228-6729\n",
      "Gates 285 Kapok St. 801-493-2203\n",
      "Green 435 Alder St. 801-933-2320\n",
      "Hooper 456 Maple St. 313-912-2101\n",
      "Jones 234 Oak St. 801-552-2943\n",
      "MacBride 789 Fir St. null\n",
      "Majeris 678 Willow St. null\n",
      "Peters 345 Pine St. 801-393-2230\n",
      "Phillips 395 Pine St. 801-323-2320\n",
      "Rowe 348 Elder St. 801-343-2320\n",
      "Smith 123 Elm St. 801-556-2239\n",
      "Warnock 775 Main St. 801-303-2222\n",
      "\n",
      "\u001b[1m\u001b[4mpilot\u001b[0m\u001b[0m\n",
      "1001 6000\n",
      "1002 24000\n",
      "1003 15000\n",
      "\n",
      "\u001b[1m\u001b[4mplane\u001b[0m\u001b[0m\n",
      "Airbus A310\n",
      "Airbus A320\n",
      "Airbus A330\n",
      "Airbus A340\n",
      "Boeing B727\n",
      "Boeing B747\n",
      "Boeing B757\n",
      "MD DC10\n",
      "MD DC9\n",
      "\n",
      "\u001b[1m\u001b[4mbooked_on\u001b[0m\u001b[0m\n",
      "DBA001 100\n",
      "DBA007 100\n",
      "DBA008 100\n",
      "DBA012 100\n",
      "DBA002 206\n",
      "DBA003 334\n",
      "DBA004 449\n",
      "DBA009 449\n",
      "DBA010 449\n",
      "DBA005 991\n",
      "DBA006 991\n",
      "DBA011 991\n",
      "\n",
      "\u001b[1m\u001b[4mpassenger\u001b[0m\u001b[0m\n",
      "Clark DBA008\n",
      "Edwards DBA004\n",
      "Gates DBA006\n",
      "Green DBA002\n",
      "Hooper DBA003\n",
      "MacBride DBA005\n",
      "Peters DBA012\n",
      "Phillips DBA009\n",
      "Rowe DBA007\n",
      "Smith DBA001\n",
      "Smith DBA011\n",
      "Warnock DBA010\n",
      "\n",
      "\u001b[1m\u001b[4massigned_to\u001b[0m\u001b[0m\n",
      "100 1001\n",
      "100 1002\n",
      "100 1003\n",
      "337 1003\n",
      "100 1004\n",
      "337 1004\n",
      "337 1005\n",
      "337 1006\n",
      "991 1006\n",
      "112 1007\n",
      "206 1007\n",
      "991 1007\n",
      "\n",
      "╴╴╴╴╴╴╴╴╴╴╴╴╴╴╴╴╴╴╴╴╴╴╴╴╴╴╴╴╴╴╴╴╴╴╴╴╴╴╴╴╴╴╴╴╴╴╴╴╴╴╴╴╴╴╴╴╴╴╴╴╴╴╴╴╴╴╴╴╴╴╴╴╴╴╴╴╴╴╴╴╴╴╴╴╴╴╴╴╴╴╴╴╴╴╴╴╴╴╴╴╴╴╴╴╴╴╴╴╴╴╴╴╴╴╴╴╴╴╴╴╴╴╴╴╴╴╴\n"
     ]
    }
   ],
   "source": [
    "# For each table in table_names & no_csv select all & then print\n",
    "for name in (table_names + no_csv):\n",
    "    print(\"\\x1b[1m\\033[4m\" + name + \"\\033[0m\\x1b[0m\")\n",
    "    cursor.execute(\"SELECT * FROM \" + name + \";\")\n",
    "    for row in cursor.fetchall():\n",
    "        print(*row)\n",
    "    print()\n",
    "print('╴' * 127)"
   ]
  },
  {
   "cell_type": "markdown",
   "id": "33372b0d",
   "metadata": {},
   "source": [
    "` `  \n",
    "## C.)\n",
    "══════════════════════════════════════════════════════════════════════════════════════════"
   ]
  },
  {
   "cell_type": "markdown",
   "id": "eb32dd72",
   "metadata": {},
   "source": [
    "__*Query to find name, ticket_number, address, & phone of all people on flight 991*__"
   ]
  },
  {
   "cell_type": "markdown",
   "id": "1e38d1cf",
   "metadata": {},
   "source": [
    "```mysql \n",
    "SELECT person.name, passenger.ticket_number, person.address, person.phone\n",
    "FROM person, passenger, booked_on\n",
    "WHERE person.name = passenger.name AND passenger.ticket_number = booked_on.ticket_number AND booked_on.flight_number = \"991\";\n",
    "```"
   ]
  },
  {
   "cell_type": "markdown",
   "id": "65c50438",
   "metadata": {},
   "source": [
    "__*Execute query and display results*__"
   ]
  },
  {
   "cell_type": "code",
   "execution_count": 23,
   "id": "5c775ff3",
   "metadata": {
    "scrolled": false
   },
   "outputs": [
    {
     "name": "stdout",
     "output_type": "stream",
     "text": [
      "\u001b[1m\u001b[4m│passenger_name │ ticket_number │    address    │     phone     │\u001b[0m\u001b[0m\n",
      "│MacBride       │DBA005         │789 Fir St.    │null           │\n",
      "│Gates          │DBA006         │285 Kapok St.  │801-493-2203   │\n",
      "│Smith          │DBA011         │123 Elm St.    │801-556-2239   │\n",
      "\n",
      "\n",
      "\u001b[1mRows affected: \u001b[0m3\n",
      "\n",
      "╴╴╴╴╴╴╴╴╴╴╴╴╴╴╴╴╴╴╴╴╴╴╴╴╴╴╴╴╴╴╴╴╴╴╴╴╴╴╴╴╴╴╴╴╴╴╴╴╴╴╴╴╴╴╴╴╴╴╴╴╴╴╴╴╴╴╴╴╴╴╴╴╴╴╴╴╴╴╴╴╴╴╴╴╴╴╴╴╴╴╴╴╴╴╴╴╴╴╴╴╴╴╴╴╴╴╴╴╴╴╴╴╴╴╴╴╴╴╴╴╴╴╴╴╴╴╴\n"
     ]
    }
   ],
   "source": [
    "rows_affected = 0\n",
    "\n",
    "cursor.execute(\"\"\"\n",
    "SELECT person.name, passenger.ticket_number, person.address, person.phone\n",
    "FROM person, passenger, booked_on\n",
    "WHERE person.name = passenger.name \n",
    "      AND passenger.ticket_number = booked_on.ticket_number \n",
    "      AND booked_on.flight_number = \"991\";\n",
    "\"\"\")\n",
    "\n",
    "print(\"\\x1b[1m\\033[4m│{:^15}│{:^15}│{:^15}│{:^15}│\\033[0m\\x1b[0m\".format(\"passenger_name\",\"ticket_number\",\" address\",\"phone\"))\n",
    "for row in cursor.fetchall():\n",
    "    print(\"│{:<15}│{:<15}│{:<15}│{:<15}│\".format(row[0],row[1],row[2],row[3]))\n",
    "rows_affected += cursor.rowcount\n",
    "print(\"\\n\\n\\x1b[1m\" + \"Rows affected: \" + \"\\x1b[0m\" + str(rows_affected) + \"\\n\\n\" + '╴' * 127)"
   ]
  },
  {
   "cell_type": "markdown",
   "id": "f5011e96",
   "metadata": {},
   "source": [
    "*The query returned the correct results!*"
   ]
  },
  {
   "cell_type": "markdown",
   "id": "1813f589",
   "metadata": {},
   "source": [
    "` `  \n",
    "## D.)\n",
    "══════════════════════════════════════════════════════════════════════════════════════════"
   ]
  },
  {
   "cell_type": "markdown",
   "id": "c28e7bb3",
   "metadata": {},
   "source": [
    "__*Stored procedure to approximate years pilot has been flying*__"
   ]
  },
  {
   "cell_type": "markdown",
   "id": "c47411b2",
   "metadata": {},
   "source": [
    "```mysql \n",
    "CREATE PROCEDURE estimate_pilot_years(employee_number INT)\n",
    "BEGIN\n",
    "    /* Hours per year (75*12) */\n",
    "    DECLARE annual INT DEFAULT 900;\n",
    "    /* Number of estimated years */ \n",
    "\tDECLARE years float(9,2) DEFAULT 0;\n",
    "    \n",
    "\tSET years = ((SELECT pilot.flight_hours \n",
    "                    FROM pilot\n",
    "                    WHERE pilot.employee_number = employee_number)/annual);\n",
    "    SELECT years;\n",
    "    \n",
    "END;\n",
    "```"
   ]
  },
  {
   "cell_type": "code",
   "execution_count": 24,
   "id": "a24ef37c",
   "metadata": {},
   "outputs": [],
   "source": [
    "cursor.execute(\"DROP procedure IF EXISTS estimate_pilot_years\")"
   ]
  },
  {
   "cell_type": "code",
   "execution_count": 25,
   "id": "fa1f5626",
   "metadata": {
    "scrolled": true
   },
   "outputs": [
    {
     "name": "stdout",
     "output_type": "stream",
     "text": [
      "\u001b[1mRows affected: \u001b[0m0\n",
      "\n",
      "╴╴╴╴╴╴╴╴╴╴╴╴╴╴╴╴╴╴╴╴╴╴╴╴╴╴╴╴╴╴╴╴╴╴╴╴╴╴╴╴╴╴╴╴╴╴╴╴╴╴╴╴╴╴╴╴╴╴╴╴╴╴╴╴╴╴╴╴╴╴╴╴╴╴╴╴╴╴╴╴╴╴╴╴╴╴╴╴╴╴╴╴╴╴╴╴╴╴╴╴╴╴╴╴╴╴╴╴╴╴╴╴╴╴╴╴╴╴╴╴╴╴╴╴╴╴╴\n"
     ]
    }
   ],
   "source": [
    "rows_affected = 0\n",
    "\n",
    "cursor.execute(\"\"\"\n",
    "CREATE PROCEDURE estimate_pilot_years(employee_number INT)\n",
    "BEGIN\n",
    "    /* Hours per year (75*12) */\n",
    "    DECLARE annual INT DEFAULT 900;\n",
    "    /* Number of estimated years */ \n",
    "    DECLARE years float(9,2) DEFAULT 0;\n",
    "    \n",
    "    SET years = ((SELECT pilot.flight_hours \n",
    "                    FROM pilot\n",
    "                    WHERE pilot.employee_number = employee_number)/annual);\n",
    "    SELECT years;\n",
    "    \n",
    "END;\n",
    "\"\"\")\n",
    "\n",
    "rows_affected += cursor.rowcount\n",
    "print(\"\\x1b[1m\" + \"Rows affected: \" + \"\\x1b[0m\" + str(rows_affected) + \"\\n\\n\" + '╴' * 127)"
   ]
  },
  {
   "cell_type": "markdown",
   "id": "f76f0f95",
   "metadata": {},
   "source": [
    "` `  \n",
    "__*Get all pilot employee numbers*__"
   ]
  },
  {
   "cell_type": "code",
   "execution_count": 26,
   "id": "f6dc3fc9",
   "metadata": {
    "scrolled": true
   },
   "outputs": [
    {
     "name": "stdout",
     "output_type": "stream",
     "text": [
      "\u001b[1m\u001b[4m│  pilot.employee_number  │\u001b[0m\u001b[0m\n",
      "│1001                     │\n",
      "│1002                     │\n",
      "│1003                     │\n",
      "\n",
      "\n",
      "\u001b[1mRows affected: \u001b[0m3\n",
      "\n",
      "╴╴╴╴╴╴╴╴╴╴╴╴╴╴╴╴╴╴╴╴╴╴╴╴╴╴╴╴╴╴╴╴╴╴╴╴╴╴╴╴╴╴╴╴╴╴╴╴╴╴╴╴╴╴╴╴╴╴╴╴╴╴╴╴╴╴╴╴╴╴╴╴╴╴╴╴╴╴╴╴╴╴╴╴╴╴╴╴╴╴╴╴╴╴╴╴╴╴╴╴╴╴╴╴╴╴╴╴╴╴╴╴╴╴╴╴╴╴╴╴╴╴╴╴╴╴╴\n"
     ]
    }
   ],
   "source": [
    "rows_affected = 0\n",
    "\n",
    "cursor.execute(\"\"\"\n",
    "SELECT *\n",
    "FROM pilot;\n",
    "\"\"\")\n",
    "\n",
    "pilot_ids = []\n",
    "pilot_hours = []\n",
    "print(\"\\x1b[1m\\033[4m│{:^25}│\\033[0m\\x1b[0m\".format(\"pilot.employee_number\"))\n",
    "\n",
    "for row in cursor.fetchall():\n",
    "    print(\"│{:<25}│\".format(row[0]))\n",
    "    pilot_ids.append(row[0])\n",
    "    pilot_hours.append(row[1])\n",
    "\n",
    "rows_affected += cursor.rowcount\n",
    "print(\"\\n\\n\\x1b[1m\" + \"Rows affected: \" + \"\\x1b[0m\" + str(rows_affected) + \"\\n\\n\" + '╴' * 127)"
   ]
  },
  {
   "cell_type": "markdown",
   "id": "5fc7cd7d",
   "metadata": {},
   "source": [
    "` `  \n",
    "__*Call procedure for each id & display results*__"
   ]
  },
  {
   "cell_type": "code",
   "execution_count": 27,
   "id": "6b2ff890",
   "metadata": {},
   "outputs": [
    {
     "name": "stdout",
     "output_type": "stream",
     "text": [
      "\u001b[1m\u001b[4m│      pilot ID      │    flight_hours    │    years_flown     │\u001b[0m\u001b[0m\n",
      "│1001                │6000                │6.67                │\n",
      "│1002                │24000               │26.67               │\n",
      "│1003                │15000               │16.67               │\n"
     ]
    }
   ],
   "source": [
    "print(\"\\x1b[1m\\033[4m│{:^20}│{:^20}│{:^20}│\\033[0m\\x1b[0m\".format(\"pilot ID\", \"flight_hours\", \"years_flown\"))\n",
    "\n",
    "for id in pilot_ids:\n",
    "    cursor.callproc(\"estimate_pilot_years\", [str(id)])\n",
    "    result = [r.fetchall() for r in cursor.stored_results()]\n",
    "    print(\"│{:<20}│{:<20}│{:<20}│\".format(id, pilot_hours[pilot_ids.index(id)] , *result[0][0]))\n",
    "    "
   ]
  },
  {
   "cell_type": "code",
   "execution_count": 28,
   "id": "2195df02",
   "metadata": {},
   "outputs": [
    {
     "data": {
      "text/plain": [
       "True"
      ]
     },
     "execution_count": 28,
     "metadata": {},
     "output_type": "execute_result"
    }
   ],
   "source": [
    "# Close socket to database\n",
    "cursor.close()"
   ]
  }
 ],
 "metadata": {
  "kernelspec": {
   "display_name": "Python 3 (ipykernel)",
   "language": "python",
   "name": "python3"
  },
  "language_info": {
   "codemirror_mode": {
    "name": "ipython",
    "version": 3
   },
   "file_extension": ".py",
   "mimetype": "text/x-python",
   "name": "python",
   "nbconvert_exporter": "python",
   "pygments_lexer": "ipython3",
   "version": "3.10.1"
  }
 },
 "nbformat": 4,
 "nbformat_minor": 5
}
